{
 "cells": [
  {
   "cell_type": "code",
   "execution_count": 7,
   "id": "fe8dce1c",
   "metadata": {},
   "outputs": [],
   "source": [
    "import cv2\n",
    "import numpy as np"
   ]
  },
  {
   "cell_type": "code",
   "execution_count": 33,
   "id": "9470b5cc",
   "metadata": {},
   "outputs": [],
   "source": [
    "image = cv2.imread(\"./subset-1/001_down_ear.jpg\")\n",
    "grey= cv2.cvtColor(image, cv2.COLOR_BGR2GRAY)\n",
    "hist = cv2.equalizeHist(grey)"
   ]
  },
  {
   "cell_type": "code",
   "execution_count": 34,
   "id": "2568f4bd",
   "metadata": {},
   "outputs": [],
   "source": [
    "binr = cv2.threshold(hist, 0, 255, cv2.THRESH_BINARY+cv2.THRESH_OTSU)[1]\n",
    "  \n",
    "# define the kernel\n",
    "kernel = np.ones((3, 3), np.uint8)\n",
    "  \n",
    "# opening the image\n",
    "opening = cv2.morphologyEx(binr, cv2.MORPH_OPEN,kernel, iterations=1)\n",
    "closing = cv2.morphologyEx(opening, cv2.MORPH_CLOSE, kernel, iterations=1)\n",
    "\n"
   ]
  },
  {
   "cell_type": "code",
   "execution_count": 35,
   "id": "ab8bfe30",
   "metadata": {},
   "outputs": [],
   "source": [
    "res = np.hstack((grey, hist,closing))\n",
    "cv2.imshow(\"Image\",res)\n",
    "cv2.waitKey(0)\n",
    "cv2.destroyAllWindows()"
   ]
  },
  {
   "cell_type": "code",
   "execution_count": null,
   "id": "bccd5e44",
   "metadata": {},
   "outputs": [],
   "source": []
  }
 ],
 "metadata": {
  "kernelspec": {
   "display_name": "Python 3 (ipykernel)",
   "language": "python",
   "name": "python3"
  },
  "language_info": {
   "codemirror_mode": {
    "name": "ipython",
    "version": 3
   },
   "file_extension": ".py",
   "mimetype": "text/x-python",
   "name": "python",
   "nbconvert_exporter": "python",
   "pygments_lexer": "ipython3",
   "version": "3.10.9"
  }
 },
 "nbformat": 4,
 "nbformat_minor": 5
}
