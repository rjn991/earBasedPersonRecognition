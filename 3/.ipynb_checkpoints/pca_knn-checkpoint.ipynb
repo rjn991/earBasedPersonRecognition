{
 "cells": [
  {
   "cell_type": "code",
   "execution_count": 1,
   "metadata": {
    "id": "UyEHZPOmfn3b"
   },
   "outputs": [],
   "source": [
    "import os\n",
    "import cv2\n",
    "import numpy as np\n",
    "from sklearn.decomposition import PCA\n",
    "from sklearn.neighbors import KNeighborsClassifier\n",
    "from sklearn.model_selection import train_test_split\n",
    "from sklearn.metrics import accuracy_score,precision_score, recall_score, f1_score"
   ]
  },
  {
   "cell_type": "code",
   "execution_count": 6,
   "metadata": {
    "id": "WhtJAon7fuJe"
   },
   "outputs": [],
   "source": [
    "folders_path = './seg.91'\n",
    "\n",
    "features = []\n",
    "labels = []\n"
   ]
  },
  {
   "cell_type": "code",
   "execution_count": 7,
   "metadata": {
    "id": "zoTtybWufvmk"
   },
   "outputs": [],
   "source": [
    "# Load and process the images\n",
    "for folder_name in os.listdir(folders_path):\n",
    "    folder_path = os.path.join(folders_path, folder_name)\n",
    "\n",
    "    for image_name in os.listdir(folder_path):\n",
    "        image_path = os.path.join(folder_path, image_name)\n",
    "\n",
    "        # Read the image in BGR format\n",
    "        image = cv2.imread(image_path)\n",
    "\n",
    "        # Convert the image to grayscale\n",
    "        gray_image = cv2.cvtColor(image, cv2.COLOR_BGR2GRAY)\n",
    "\n",
    "        # Flatten the grayscale image into a 1D vector\n",
    "        flattened_image = gray_image.flatten()\n",
    "\n",
    "        features.append(flattened_image)\n",
    "        labels.append(folder_name)\n"
   ]
  },
  {
   "cell_type": "code",
   "execution_count": 8,
   "metadata": {},
   "outputs": [],
   "source": [
    "# Convert features and labels to numpy arrays\n",
    "X = np.array(features)\n",
    "y = np.array(labels)"
   ]
  },
  {
   "cell_type": "code",
   "execution_count": 9,
   "metadata": {
    "colab": {
     "base_uri": "https://localhost:8080/"
    },
    "id": "rurgmqkdf0nR",
    "outputId": "cda9502d-39ed-4ea9-b443-1fe8b8fcbd91"
   },
   "outputs": [
    {
     "name": "stdout",
     "output_type": "stream",
     "text": [
      "Training Accuracy: 0.5941043083900227\n",
      "Testing Accuracy: 0.1981981981981982\n",
      "Training Precision: 0.6454540577839898\n",
      "Testing Precision: 0.24549549549549549\n",
      "Training Recall: 0.5941043083900227\n",
      "Testing Recall: 0.1981981981981982\n",
      "Training F1 Score: 0.5752310204817295\n",
      "Testing F1 Score: 0.19357819357819356\n"
     ]
    },
    {
     "name": "stderr",
     "output_type": "stream",
     "text": [
      "/home/rjn991/.local/lib/python3.11/site-packages/sklearn/metrics/_classification.py:1344: UndefinedMetricWarning: Precision is ill-defined and being set to 0.0 in labels with no predicted samples. Use `zero_division` parameter to control this behavior.\n",
      "  _warn_prf(average, modifier, msg_start, len(result))\n",
      "/home/rjn991/.local/lib/python3.11/site-packages/sklearn/metrics/_classification.py:1344: UndefinedMetricWarning: Precision is ill-defined and being set to 0.0 in labels with no predicted samples. Use `zero_division` parameter to control this behavior.\n",
      "  _warn_prf(average, modifier, msg_start, len(result))\n",
      "/home/rjn991/.local/lib/python3.11/site-packages/sklearn/metrics/_classification.py:1344: UndefinedMetricWarning: Recall is ill-defined and being set to 0.0 in labels with no true samples. Use `zero_division` parameter to control this behavior.\n",
      "  _warn_prf(average, modifier, msg_start, len(result))\n"
     ]
    }
   ],
   "source": [
    "# Perform PCA for dimensionality reduction\n",
    "pca = PCA(n_components=100)  # Set the desired number of components\n",
    "X_pca = pca.fit_transform(X)\n",
    "\n",
    "# Split the data into training and testing sets\n",
    "X_train, X_test, y_train, y_test = train_test_split(X_pca, y, test_size=0.2, random_state=42)\n",
    "\n",
    "# Train a KNN classifier\n",
    "knn_model = KNeighborsClassifier(n_neighbors=3)  # Set the desired number of neighbors\n",
    "knn_model.fit(X_train, y_train)\n",
    "\n",
    "# Predict the class labels for training and testing data\n",
    "y_train_pred = knn_model.predict(X_train)\n",
    "y_test_pred = knn_model.predict(X_test)\n",
    "\n",
    "train_accuracy = accuracy_score(y_train, y_train_pred)\n",
    "test_accuracy = accuracy_score(y_test, y_test_pred)\n",
    "\n",
    "train_precision = precision_score(y_train, y_train_pred, average='weighted')\n",
    "test_precision = precision_score(y_test, y_test_pred, average='weighted')\n",
    "\n",
    "train_recall = recall_score(y_train, y_train_pred, average='weighted')\n",
    "test_recall = recall_score(y_test, y_test_pred, average='weighted')\n",
    "\n",
    "train_f1 = f1_score(y_train, y_train_pred, average='weighted')\n",
    "test_f1 = f1_score(y_test, y_test_pred, average='weighted')\n",
    "\n",
    "print(\"Training Accuracy:\", train_accuracy)\n",
    "print(\"Testing Accuracy:\", test_accuracy)\n",
    "\n",
    "print(\"Training Precision:\", train_precision)\n",
    "print(\"Testing Precision:\", test_precision)\n",
    "\n",
    "print(\"Training Recall:\", train_recall)\n",
    "print(\"Testing Recall:\", test_recall)\n",
    "\n",
    "print(\"Training F1 Score:\", train_f1)\n",
    "print(\"Testing F1 Score:\", test_f1)"
   ]
  },
  {
   "cell_type": "code",
   "execution_count": null,
   "metadata": {
    "id": "VeJpvfOChnEQ"
   },
   "outputs": [],
   "source": []
  }
 ],
 "metadata": {
  "colab": {
   "provenance": []
  },
  "kernelspec": {
   "display_name": "Python 3 (ipykernel)",
   "language": "python",
   "name": "python3"
  },
  "language_info": {
   "codemirror_mode": {
    "name": "ipython",
    "version": 3
   },
   "file_extension": ".py",
   "mimetype": "text/x-python",
   "name": "python",
   "nbconvert_exporter": "python",
   "pygments_lexer": "ipython3",
   "version": "3.11.3"
  }
 },
 "nbformat": 4,
 "nbformat_minor": 1
}
