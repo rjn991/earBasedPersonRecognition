{
 "cells": [
  {
   "cell_type": "code",
   "execution_count": 4,
   "metadata": {
    "id": "hjGBzL0NIoG0"
   },
   "outputs": [],
   "source": [
    "import os\n",
    "import cv2\n",
    "import numpy as np\n",
    "from sklearn.model_selection import train_test_split\n",
    "from sklearn.decomposition import PCA\n",
    "from sklearn.svm import SVC\n",
    "from sklearn.metrics import accuracy_score, precision_score, recall_score, f1_score"
   ]
  },
  {
   "cell_type": "code",
   "execution_count": 5,
   "metadata": {
    "id": "jW-f5SNWIpm8"
   },
   "outputs": [],
   "source": [
    "folders_path = './seg'"
   ]
  },
  {
   "cell_type": "code",
   "execution_count": 6,
   "metadata": {
    "id": "GVtjP9PyIrZ8"
   },
   "outputs": [],
   "source": [
    "# Initialize lists to store features and labels\n",
    "features = []\n",
    "labels = []\n",
    "# Iterate through each folder\n",
    "for folder_name in os.listdir(folders_path):\n",
    "    folder_path = os.path.join(folders_path, folder_name)\n",
    "\n",
    "    # Iterate through each image in the folder\n",
    "    for image_name in os.listdir(folder_path):\n",
    "        image_path = os.path.join(folder_path, image_name)\n",
    "\n",
    "        # Read the RGB image and convert it to grayscale\n",
    "        rgb_image = cv2.imread(image_path)\n",
    "        gray_image = cv2.cvtColor(rgb_image, cv2.COLOR_BGR2GRAY)\n",
    "        gray_image = cv2.resize(gray_image,(256,256))\n",
    "        gray_image= cv2.GaussianBlur(gray_image,(3,3),0)\n",
    "\n",
    "\n",
    "        # Flatten the image to a 1D vector\n",
    "        flattened_image = gray_image.flatten()\n",
    "\n",
    "        # Append the flattened image to the feature list\n",
    "        features.append(flattened_image)\n",
    "\n",
    "        # Append the label of the folder to the label list\n",
    "        labels.append(folder_name)"
   ]
  },
  {
   "cell_type": "code",
   "execution_count": 7,
   "metadata": {
    "id": "69lwPGKJJFzU"
   },
   "outputs": [],
   "source": [
    "# Convert the lists to numpy arrays\n",
    "X = np.array(features)\n",
    "y = np.array(labels)\n"
   ]
  },
  {
   "cell_type": "code",
   "execution_count": 8,
   "metadata": {
    "colab": {
     "base_uri": "https://localhost:8080/"
    },
    "id": "RPRsqznZeqbf",
    "outputId": "43fd939b-95a9-400c-94e5-0d00aace4835"
   },
   "outputs": [
    {
     "name": "stdout",
     "output_type": "stream",
     "text": [
      "(1039, 65536)\n",
      "(1039,)\n"
     ]
    }
   ],
   "source": [
    "print(X.shape)\n",
    "print(y.shape)"
   ]
  },
  {
   "cell_type": "code",
   "execution_count": 9,
   "metadata": {
    "colab": {
     "base_uri": "https://localhost:8080/"
    },
    "id": "e9p_2VCxJarw",
    "outputId": "d70b8844-ae0a-45fd-b065-83de6b9741c2"
   },
   "outputs": [
    {
     "name": "stdout",
     "output_type": "stream",
     "text": [
      "Accuracy: 0.5673076923076923\n",
      "Training Accuracy: 1.0\n",
      "Testing Accuracy: 0.5673076923076923\n",
      "Training Precision: 1.0\n",
      "Testing Precision: 0.6390224358974359\n",
      "Training Recall: 1.0\n",
      "Testing Recall: 0.5673076923076923\n",
      "Training F1 Score: 1.0\n",
      "Testing F1 Score: 0.5704326923076923\n"
     ]
    },
    {
     "name": "stderr",
     "output_type": "stream",
     "text": [
      "/home/rjn991/.local/lib/python3.11/site-packages/sklearn/metrics/_classification.py:1344: UndefinedMetricWarning: Precision is ill-defined and being set to 0.0 in labels with no predicted samples. Use `zero_division` parameter to control this behavior.\n",
      "  _warn_prf(average, modifier, msg_start, len(result))\n",
      "/home/rjn991/.local/lib/python3.11/site-packages/sklearn/metrics/_classification.py:1344: UndefinedMetricWarning: Recall is ill-defined and being set to 0.0 in labels with no true samples. Use `zero_division` parameter to control this behavior.\n",
      "  _warn_prf(average, modifier, msg_start, len(result))\n"
     ]
    }
   ],
   "source": [
    "# Perform PCA\n",
    "pca = PCA(n_components=100)  # Set the desired number of components\n",
    "X_pca = pca.fit_transform(X)\n",
    "\n",
    "# Split the dataset into training and testing sets\n",
    "X_train, X_test, y_train, y_test = train_test_split(X_pca, y, test_size=0.2, random_state=42)\n",
    "\n",
    "# Train an SVM model\n",
    "svm = SVC(kernel='linear')\n",
    "svm.fit(X_train, y_train)\n",
    "\n",
    "# Evaluate the model\n",
    "accuracy = svm.score(X_test, y_test)\n",
    "print(\"Accuracy:\", accuracy)\n",
    "\n",
    "# Predict the class labels for training and testing data\n",
    "y_train_pred = svm.predict(X_train)\n",
    "y_test_pred = svm.predict(X_test)\n",
    "\n",
    "# Calculate the evaluation metrics\n",
    "train_accuracy = accuracy_score(y_train, y_train_pred)\n",
    "test_accuracy = accuracy_score(y_test, y_test_pred)\n",
    "\n",
    "train_precision = precision_score(y_train, y_train_pred, average='weighted')\n",
    "test_precision = precision_score(y_test, y_test_pred, average='weighted')\n",
    "\n",
    "train_recall = recall_score(y_train, y_train_pred, average='weighted')\n",
    "test_recall = recall_score(y_test, y_test_pred, average='weighted')\n",
    "\n",
    "train_f1 = f1_score(y_train, y_train_pred, average='weighted')\n",
    "test_f1 = f1_score(y_test, y_test_pred, average='weighted')\n",
    "\n",
    "print(\"Training Accuracy:\", train_accuracy)\n",
    "print(\"Testing Accuracy:\", test_accuracy)\n",
    "\n",
    "print(\"Training Precision:\", train_precision)\n",
    "print(\"Testing Precision:\", test_precision)\n",
    "\n",
    "print(\"Training Recall:\", train_recall)\n",
    "print(\"Testing Recall:\", test_recall)\n",
    "\n",
    "print(\"Training F1 Score:\", train_f1)\n",
    "print(\"Testing F1 Score:\", test_f1)"
   ]
  },
  {
   "cell_type": "code",
   "execution_count": null,
   "metadata": {
    "id": "cQcVK5BIaqIH"
   },
   "outputs": [],
   "source": []
  }
 ],
 "metadata": {
  "colab": {
   "provenance": []
  },
  "kernelspec": {
   "display_name": "Python 3 (ipykernel)",
   "language": "python",
   "name": "python3"
  },
  "language_info": {
   "codemirror_mode": {
    "name": "ipython",
    "version": 3
   },
   "file_extension": ".py",
   "mimetype": "text/x-python",
   "name": "python",
   "nbconvert_exporter": "python",
   "pygments_lexer": "ipython3",
   "version": "3.11.3"
  }
 },
 "nbformat": 4,
 "nbformat_minor": 1
}
